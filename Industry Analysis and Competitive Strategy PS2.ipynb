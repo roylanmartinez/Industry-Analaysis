{
 "cells": [
  {
   "cell_type": "markdown",
   "metadata": {},
   "source": [
    "# Problem set 2 {-}\n",
    "    Bsc. Economics\n",
    "    Universitat Autònoma de Barcelona"
   ]
  },
  {
   "cell_type": "markdown",
   "metadata": {},
   "source": [
    "## 1. - Can you calculate these financial performance measures for each of these 21 DMUs? {-}"
   ]
  },
  {
   "cell_type": "markdown",
   "metadata": {},
   "source": [
    "![image](image.jpg \"Title\")"
   ]
  },
  {
   "cell_type": "markdown",
   "metadata": {},
   "source": [
    "## 2. - Based on this information, which is the best and worst DMU for you? {-}"
   ]
  },
  {
   "cell_type": "markdown",
   "metadata": {},
   "source": [
    "After computing the financial performance measure for all these DMU, we think the worst one is DMU 2, since it has two negatives’ indicators, and moreover, almost every indicator is below the industry average. The first negative indicator is Economic profit, which value is -2,053 and the other indicator is Economic margin with -0,005. This results impliy that firm is not capable of paying back the owner’s fund with revenues.   \n",
    "\n",
    "For us, the best DMU were apparently 7 and 12, both have an economic profitability of 1.238, but then we realized of something weird, the economic margin was higher for DMU 7 than for DMU 12, even though their respective economic profitability was the same. We decided to increase the amount of decimal place for the economic profitability, and indeed, the value of DMU 7 was slightly higher.   \n",
    "\n",
    "As a matter of curiosity, almost all indicators of DMU 12 were the biggest ones in the industry, with exception of the ones that did not correspond to Cost, as we have mention before, and Accounting profitability, Accounting margin and Economic margin, but are these were the second ones.   "
   ]
  },
  {
   "cell_type": "markdown",
   "metadata": {},
   "source": [
    "## 3. - Based on this information, can you provide an assessment of the DMU which has the same numbering as your working group? (Maximum length six lines) {-}"
   ]
  },
  {
   "cell_type": "markdown",
   "metadata": {},
   "source": [
    "Looking for example, Accounting profit is 102,318, so after paying Total costs with Revenue, the firm has a surplus. Economic profitability is bigger than 1, which means that revenues are bigger than the cost plus the owner’s fund, which implies the firm is getting enough capital to grow and survive. Our firm (14) has an Accounting profitability, Economic profitability, Accounting margin and Economic Margin bigger than the industry. Therefore, we can conclude that our firm is a very competitive one.  "
   ]
  },
  {
   "cell_type": "markdown",
   "metadata": {},
   "source": [
    "## 4. - We have the following data set: {-}"
   ]
  },
  {
   "cell_type": "markdown",
   "metadata": {},
   "source": [
    "The provided data is:"
   ]
  },
  {
   "cell_type": "code",
   "execution_count": 6,
   "metadata": {},
   "outputs": [
    {
     "data": {
      "text/html": [
       "<div>\n",
       "<style scoped>\n",
       "    .dataframe tbody tr th:only-of-type {\n",
       "        vertical-align: middle;\n",
       "    }\n",
       "\n",
       "    .dataframe tbody tr th {\n",
       "        vertical-align: top;\n",
       "    }\n",
       "\n",
       "    .dataframe thead th {\n",
       "        text-align: right;\n",
       "    }\n",
       "</style>\n",
       "<table border=\"1\" class=\"dataframe\">\n",
       "  <thead>\n",
       "    <tr style=\"text-align: right;\">\n",
       "      <th></th>\n",
       "      <th>0</th>\n",
       "      <th>1</th>\n",
       "      <th>2</th>\n",
       "      <th>3</th>\n",
       "      <th>4</th>\n",
       "      <th>5</th>\n",
       "      <th>6</th>\n",
       "    </tr>\n",
       "  </thead>\n",
       "  <tbody>\n",
       "    <tr>\n",
       "      <td>x1</td>\n",
       "      <td>4</td>\n",
       "      <td>7</td>\n",
       "      <td>8</td>\n",
       "      <td>4</td>\n",
       "      <td>2</td>\n",
       "      <td>10</td>\n",
       "      <td>2</td>\n",
       "    </tr>\n",
       "    <tr>\n",
       "      <td>x2</td>\n",
       "      <td>3</td>\n",
       "      <td>3</td>\n",
       "      <td>1</td>\n",
       "      <td>2</td>\n",
       "      <td>4</td>\n",
       "      <td>1</td>\n",
       "      <td>5</td>\n",
       "    </tr>\n",
       "  </tbody>\n",
       "</table>\n",
       "</div>"
      ],
      "text/plain": [
       "    0  1  2  3  4   5  6\n",
       "x1  4  7  8  4  2  10  2\n",
       "x2  3  3  1  2  4   1  5"
      ]
     },
     "execution_count": 6,
     "metadata": {},
     "output_type": "execute_result"
    }
   ],
   "source": [
    "import pandas as pd\n",
    "df = pd.DataFrame({'x1': [4, 7, 8, 4, 2, 10, 2], 'x2': [3, 3, 1, 2, 4, 1, 5]})\n",
    "df.transpose()"
   ]
  },
  {
   "cell_type": "markdown",
   "metadata": {},
   "source": [
    "### Introduction to solve the exercise 4: {-}   \n",
    "    To solve this problem, we will use python 3.7.\n",
    "##### Defining the base functions  {-}   \n",
    "   To compute the frontier we made use of two techniques, the first one was to minimize Phi subject to the different constraints of the technical efficiency frontier using the scipy minimization algorithm library (we will discuss this step further in **section 4.iv**) and the second tool was the Alpha Shape mathematical method given in Python by the algorithm library alphashape that pretty much simplifies a lot the visualisation computation of the efficient points on the frontier using the idea of the alpha-shape. "
   ]
  },
  {
   "cell_type": "markdown",
   "metadata": {},
   "source": [
    "## 4.i) Draw the DEA technology for the case of this example {-}"
   ]
  },
  {
   "cell_type": "code",
   "execution_count": 7,
   "metadata": {},
   "outputs": [
    {
     "data": {
      "image/png": "[encoded data removed]",
      "text/plain": [
       "<Figure size 432x288 with 1 Axes>"
      ]
     },
     "metadata": {
      "needs_background": "light"
     },
     "output_type": "display_data"
    }
   ],
   "source": [
    "import matplotlib.pyplot as plt\n",
    "import numpy as np\n",
    "import alphashape\n",
    "from descartes import PolygonPatch\n",
    "from scipy.optimize import minimize\n",
    "\n",
    "top_right = (df.x1.values.max(), df.x2.values.max())\n",
    "df.loc[df.shape[0]] = top_right\n",
    "\n",
    "alpha_shape = alphashape.alphashape(df.values, 0)\n",
    "\n",
    "fig, ax = plt.subplots()\n",
    "ax.scatter(x= df.x1, y= df.x2)\n",
    "ax.add_patch(PolygonPatch(alpha_shape, alpha=0.2))\n",
    "plt.show()"
   ]
  },
  {
   "cell_type": "markdown",
   "metadata": {},
   "source": [
    "## 4.ii) Give a list of the observations which are efficient and inefficient {-}"
   ]
  },
  {
   "cell_type": "code",
   "execution_count": 3,
   "metadata": {},
   "outputs": [
    {
     "data": {
      "text/plain": [
       "[(2.0, 4.0), (2.0, 5.0), (4.0, 2.0), (8.0, 1.0), (10.0, 1.0)]"
      ]
     },
     "execution_count": 3,
     "metadata": {},
     "output_type": "execute_result"
    }
   ],
   "source": [
    "outerpoints = alpha_shape.exterior.coords\n",
    "efficient = [tuple(i) for i in np.unique(list(filter(lambda x: tuple(x) != top_right, outerpoints)), axis=0)]\n",
    "inefficient = [tuple(i) for i in list(filter(lambda x: tuple(x) not in efficient and tuple (x) != top_right, df.values))]\n",
    "efficient"
   ]
  },
  {
   "cell_type": "markdown",
   "metadata": {},
   "source": [
    "Given the list of observations the most efficient observations are:   \n",
    "**(2.0, 4.0), (2.0, 5.0), (4.0, 2.0), (8.0, 1.0), (10.0, 1.0)**"
   ]
  },
  {
   "cell_type": "code",
   "execution_count": 4,
   "metadata": {},
   "outputs": [
    {
     "data": {
      "text/plain": [
       "[(4, 3), (7, 3)]"
      ]
     },
     "execution_count": 4,
     "metadata": {},
     "output_type": "execute_result"
    }
   ],
   "source": [
    "inefficient"
   ]
  },
  {
   "cell_type": "markdown",
   "metadata": {},
   "source": [
    "Given the list of observations the most inefficient observations are:   \n",
    "**(4, 3), (7, 3)**"
   ]
  },
  {
   "cell_type": "markdown",
   "metadata": {},
   "source": [
    "## 4.iii) Which are the peers/benchmarks of the inefficient observations? {-}"
   ]
  },
  {
   "cell_type": "markdown",
   "metadata": {},
   "source": [
    "As shown in **section 4.i**:\n",
    "\n",
    "- For the observation **a** with coordinates **(4, 3)** the references are  **e (2, 4)** and **d (4, 2)**\n",
    "- For the observation **b** with coordinates **(7, 3)** the references are **d (4, 2)** and **c (8, 1)**"
   ]
  },
  {
   "cell_type": "markdown",
   "metadata": {},
   "source": [
    "## 4.iv) Write the DEA linear program for the case of this example. {-}"
   ]
  },
  {
   "cell_type": "markdown",
   "metadata": {},
   "source": [
    "To solve this problem we basically need to solve the following optimization problem:  \n",
    "$$ min \\;  \\Phi $$  \n",
    "Subject to:  \n",
    "$$ y^{ot} \\leq \\Sigma_{i=1}^{k} \\lambda^{t}_{i} \\cdot y_{i}^{t} \\tag{1}$$\n",
    "and:\n",
    "$$ \\Phi \\cdot x^{ot} \\leq \\Sigma_{i=1}^{k} \\lambda^{t}_{i} \\cdot x_{i}^{t} $$\n",
    "and:\n",
    "$$ \\Sigma_{i} \\lambda_{i} = 1 $$\n",
    "and:\n",
    "$$ \\lambda \\geq 0 $$  \n",
    "Note *equation 1* is not necessary because if:  \n",
    "$$y = 1 $$\n",
    "then: \n",
    "$$ y_{t}^{i} = 1 \\; \\forall i, t \\in \\mathbb{R} $$\n",
    "then:\n",
    "$$y^{ot} \\leq \\Sigma_{i=1}^{k} \\lambda^{t}_{i} \\cdot y_{i}^{t} = \\Sigma_{i} \\lambda_{i} \\tag{2}= 1$$\n",
    "\n",
    "Even though *equation 1* is not needed, as shown in *equation 2*, we used it in order to stick to the original formula. This optimization problem for observation **A** (as asked in **4.v**) can easily be solved using the optimization algorithm given by the **scipy.optimize** module as follows:"
   ]
  },
  {
   "cell_type": "markdown",
   "metadata": {},
   "source": [
    "Note we first declare the variable to be minized `fun`, then we declare the contraints 4 constraints with the variable `cons` and finally we made use of the optimization algorithm through the variable `res` and finally we captured the optimized results using the variable `res`."
   ]
  },
  {
   "cell_type": "code",
   "execution_count": 5,
   "metadata": {},
   "outputs": [
    {
     "data": {
      "text/plain": [
       "     fun: 0.8571428571428572\n",
       "     jac: array([0., 0., 0., 0., 0., 0., 0., 1.])\n",
       " message: 'Optimization terminated successfully.'\n",
       "    nfev: 50\n",
       "     nit: 5\n",
       "    njev: 5\n",
       "  status: 0\n",
       " success: True\n",
       "       x: array([0.00000000e+00, 2.01227923e-16, 0.00000000e+00, 7.14285714e-01,\n",
       "       2.85714286e-01, 9.71445147e-17, 0.00000000e+00, 8.57142857e-01])"
      ]
     },
     "execution_count": 5,
     "metadata": {},
     "output_type": "execute_result"
    }
   ],
   "source": [
    "fun = lambda x: x[7]\n",
    "cons = (\n",
    "    {'type': 'ineq', 'fun': lambda x:  x[0] + x[1] + x[2] + x[3] + x[4] + x[5] + x[6] - 1}, \n",
    "    {'type': 'ineq', 'fun': lambda x:  -1 * (4*x[0] + 7*x[1] + 8*x[2] + 4*x[3] + 2*x[4] + 10*x[5] + 2*x[6]) + 4*x[7]},\n",
    "    {'type': 'ineq', 'fun': lambda x:  -1 * (3*x[0] + 3*x[1] + x[2] + 2*x[3] + 4*x[4] + x[5] + 5*x[6]) + 3*x[7]},\n",
    "    {'type': 'eq', 'fun': lambda x:  x[0] + x[1] + x[2] + x[3] + x[4] + x[5] + x[6] - 1},  \n",
    ")\n",
    "bnds = [[0, None] for i in range(8)]\n",
    "res = minimize(fun, [1] * 8, constraints=cons, bounds=bnds)\n",
    "res"
   ]
  },
  {
   "cell_type": "markdown",
   "metadata": {},
   "source": [
    "## 4.v) Write the solution that you expect for the case of observation A. Which lambdas (or z) should be higher than zero (λ > 0)? Relate the answer to the previous point (iii) {-}"
   ]
  },
  {
   "cell_type": "markdown",
   "metadata": {},
   "source": [
    "Note that the first 6 values of the vector (array) **x** computed at the last exercise contains the values **lambda a**, **lambda b**, **lambda c**, **lambda d**, **lambda e**, **lambda f** and **lambda g** respectively. The last value of this vector corresponds to the value of **Phi** for observation **a**.  \n",
    "\n",
    "So, as we computed in the last step for observation **a**, $$ \\Phi_{a} = 0.8571428571428572$$ and $$\\lambda_{a} = 0$$  \n",
    "Note that also:\n",
    "$$\\lambda_{b}, \\lambda_{c}, \\lambda_{f}, \\lambda_{g} = 0$$\n",
    "The lambdas that resulted in this operation higher than zero were **d** and **e**:\n",
    "$$\\lambda_{d} = 7.14285714e-01 \\approx 0.714 > 0 $$\n",
    "$$\\lambda_{e} = 2.85714286e-01 \\approx 0.286 > 0 $$  \n",
    "Furthermore note that:  \n",
    "$$ \\lambda_{d} + \\lambda_{e} = 1$$"
   ]
  },
  {
   "cell_type": "markdown",
   "metadata": {},
   "source": [
    "The interesting thing here is that the two lambda's that resulted higher than zero for the optimization problem of observation **a** correspond to the same references **e (2, 4)** and **d (4, 2)** computed in **section 4.ii**. \n",
    "Besides, these results give more information, note that the result of the optimized **Phi** is **0.857** and that **0.857** < 1. It means that the inputs **x1** and **x2** should decrease by **14.3%** (14.3% = 0.143 = 1 - 0.857) to be on the efficient frontier. "
   ]
  }
 ],
 "metadata": {
  "interpreter": {
   "hash": "b2bbca7b25589987bc69e95430193d6372f81759d34e6ca1eac7aad3047d77e5"
  },
  "kernelspec": {
   "display_name": "Python 3",
   "language": "python",
   "name": "python3"
  },
  "language_info": {
   "codemirror_mode": {
    "name": "ipython",
    "version": 3
   },
   "file_extension": ".py",
   "mimetype": "text/x-python",
   "name": "python",
   "nbconvert_exporter": "python",
   "pygments_lexer": "ipython3",
   "version": "3.7.4"
  }
 },
 "nbformat": 4,
 "nbformat_minor": 4
}
